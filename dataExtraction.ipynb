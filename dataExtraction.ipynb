{
 "cells": [
  {
   "cell_type": "code",
   "execution_count": 1,
   "metadata": {},
   "outputs": [],
   "source": [
    "import csv\n",
    "import tabula"
   ]
  },
  {
   "cell_type": "code",
   "execution_count": 2,
   "metadata": {},
   "outputs": [],
   "source": [
    "def merge_lines(d1,d2):\n",
    "    d3 = []\n",
    "    for i, j in enumerate(d1):\n",
    "        if j == \"\" and d2[i] == \"\":\n",
    "            d3.append(\"\")\n",
    "        if j != \"\" and d2[i] == \"\":\n",
    "            d3.append(j)\n",
    "        if j == \"\" and d2[i] != \"\":\n",
    "            d3.append(d2[i])\n",
    "        if j != \"\" and d2[i] != \"\":\n",
    "            d3.append(j +\"\\n\"+d2[i])\n",
    "    return d3"
   ]
  },
  {
   "cell_type": "code",
   "execution_count": 3,
   "metadata": {},
   "outputs": [],
   "source": [
    "def cleaner_1(infile,outfile):\n",
    "    d = []\n",
    "    with open(infile, newline='') as csvfile:\n",
    "        reader = csv.reader(csvfile)\n",
    "        merge = False\n",
    "        temp = []\n",
    "        get_header = False\n",
    "        for row in reader:\n",
    "            if not merge:\n",
    "                if row[0] == \"\":\n",
    "                    merge = True\n",
    "                    temp = row\n",
    "                    continue\n",
    "                if not get_header:\n",
    "                    if row[0] == \"Timestamp\":\n",
    "                        d.append(row)\n",
    "                        get_header = True\n",
    "                else:\n",
    "                    if row[0] != \"Timestamp\":\n",
    "                        d.append(row)\n",
    "            if merge:\n",
    "                if row[0] != \"\":\n",
    "                    merge = False\n",
    "                    temp = merge_lines(temp,row)\n",
    "                    d.append(temp)\n",
    "                else:\n",
    "                    temp = merge_lines(temp,row)\n",
    "    with open(outfile, 'w', newline='') as csvfile:\n",
    "        writer = csv.writer(csvfile)\n",
    "        for i in d:\n",
    "            writer.writerow(i)"
   ]
  },
  {
   "cell_type": "code",
   "execution_count": 4,
   "metadata": {},
   "outputs": [],
   "source": [
    "def cleaner_2(infile,outfile):\n",
    "    d = []\n",
    "    with open(infile, newline='') as csvfile:\n",
    "        reader = csv.reader(csvfile)\n",
    "        for row in reader:\n",
    "            if row[0] != \"Timestamp Meeting Date\":\n",
    "                if row[1] == \"\":\n",
    "                    temp = row\n",
    "                    temp[0] = temp[0].replace(\" April 27, 2021\",\"\")\n",
    "                    temp[1] = \"April 27, 2021\"\n",
    "                    d.append(temp)\n",
    "                else:\n",
    "                    d.append(row)\n",
    "    with open(outfile, 'w', newline='') as csvfile:\n",
    "        writer = csv.writer(csvfile)\n",
    "        for i in d:\n",
    "            writer.writerow(i)"
   ]
  },
  {
   "cell_type": "code",
   "execution_count": 5,
   "metadata": {},
   "outputs": [],
   "source": [
    "#Need to use tabula-py to get initial conversion from pdf to excel. \n",
    "cleaner_2(\"4_27_21_IRC_Public_Comments_Form_3.csv\",\"test.csv\")"
   ]
  }
 ],
 "metadata": {
  "kernelspec": {
   "display_name": "Python 3",
   "language": "python",
   "name": "python3"
  },
  "language_info": {
   "codemirror_mode": {
    "name": "ipython",
    "version": 3
   },
   "file_extension": ".py",
   "mimetype": "text/x-python",
   "name": "python",
   "nbconvert_exporter": "python",
   "pygments_lexer": "ipython3",
   "version": "3.8.1"
  }
 },
 "nbformat": 4,
 "nbformat_minor": 4
}
