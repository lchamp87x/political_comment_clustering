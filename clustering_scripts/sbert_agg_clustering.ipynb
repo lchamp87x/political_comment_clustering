{
 "cells": [
  {
   "cell_type": "code",
   "execution_count": 1,
   "metadata": {},
   "outputs": [],
   "source": [
    "import numpy as np\n",
    "from sklearn.metrics.cluster import pair_confusion_matrix\n",
    "from sklearn import metrics\n",
    "import sklearn.metrics.pairwise as smp\n",
    "import sklearn.cluster as sc\n",
    "import sentence_transformers as st\n",
    "import csv"
   ]
  },
  {
   "cell_type": "code",
   "execution_count": 2,
   "metadata": {},
   "outputs": [],
   "source": [
    "sentences = []\n",
    "truth_labels = []\n",
    "with open(\"../comments.csv\", newline='') as csvfile:\n",
    "    reader = csv.reader(csvfile)\n",
    "    next(reader)\n",
    "    for row in reader:\n",
    "        sentences.append(row[0])\n",
    "        truth_labels.append(row[1])\n",
    "n = len(sentences)"
   ]
  },
  {
   "cell_type": "code",
   "execution_count": 3,
   "metadata": {},
   "outputs": [],
   "source": [
    "def cluster_and_evaluate(texts, distances,X,truth_labels):\n",
    "    clustering = sc.AgglomerativeClustering(\n",
    "        n_clusters=None,\n",
    "        distance_threshold=0.1,\n",
    "        affinity='precomputed',\n",
    "        linkage='average')\n",
    "    clustering.fit(distances)\n",
    "    print(\"\\n\")\n",
    "    print(\"=== Unsupervised Metrics ===\\n\")\n",
    "    print(\"== Silhouette Coefficient [0,1*] ==\")\n",
    "    print(metrics.silhouette_score(distances, clustering.labels_, metric='precomputed'),\"\\n\")\n",
    "    print(\"== Calinski-Harabasz Index [0,inf*] ==\")\n",
    "    print(metrics.calinski_harabasz_score(X, clustering.labels_),\"\\n\")\n",
    "    print(\"== Davies-Bouldin Index [0*,1] ==\")\n",
    "    print(metrics.davies_bouldin_score(X, clustering.labels_),\"\\n\")\n",
    "    print(\"\\n\")\n",
    "    print(\"=== Supervised Metrics ===\\n\")\n",
    "    print(\"== Rand Index [0,1*] ==\")\n",
    "    print(metrics.rand_score(truth_labels, clustering.labels_),\"\\n\")\n",
    "    print(\"== Normalized Mutual Information Score [0,1*] ==\")\n",
    "    print(metrics.normalized_mutual_info_score(truth_labels, clustering.labels_),\"\\n\")\n",
    "    print(\"== Fowlkes-Mallows Score [0,1*] ==\")\n",
    "    print(metrics.fowlkes_mallows_score(truth_labels, clustering.labels_),\"\\n\")"
   ]
  },
  {
   "cell_type": "code",
   "execution_count": 4,
   "metadata": {},
   "outputs": [
    {
     "name": "stdout",
     "output_type": "stream",
     "text": [
      "=== SentenceTransformer ===\n",
      "\n",
      "\n",
      "\n",
      "=== Unsupervised Metrics ===\n",
      "\n",
      "== Silhouette Coefficient [0,1*] ==\n",
      "0.10681761 \n",
      "\n",
      "== Calinski-Harabasz Index [0,inf*] ==\n",
      "18.402048298944738 \n",
      "\n",
      "== Davies-Bouldin Index [0*,1] ==\n",
      "0.2763499200435646 \n",
      "\n",
      "\n",
      "\n",
      "=== Supervised Metrics ===\n",
      "\n",
      "== Rand Index [0,1*] ==\n",
      "0.45641678206519704 \n",
      "\n",
      "== Normalized Mutual Information Score [0,1*] ==\n",
      "0.2779774423229414 \n",
      "\n",
      "== Fowlkes-Mallows Score [0,1*] ==\n",
      "0.0391827065695695 \n",
      "\n"
     ]
    }
   ],
   "source": [
    "print(\"=== SentenceTransformer ===\\n\")\n",
    "model = st.SentenceTransformer('paraphrase-distilroberta-base-v1')\n",
    "embeddings = model.encode(sentences)\n",
    "embed_dist = smp.cosine_distances(embeddings)\n",
    "cluster_and_evaluate(sentences, embed_dist,embeddings,truth_labels)"
   ]
  }
 ],
 "metadata": {
  "kernelspec": {
   "display_name": "Python 3",
   "language": "python",
   "name": "python3"
  },
  "language_info": {
   "codemirror_mode": {
    "name": "ipython",
    "version": 3
   },
   "file_extension": ".py",
   "mimetype": "text/x-python",
   "name": "python",
   "nbconvert_exporter": "python",
   "pygments_lexer": "ipython3",
   "version": "3.8.1"
  }
 },
 "nbformat": 4,
 "nbformat_minor": 4
}
